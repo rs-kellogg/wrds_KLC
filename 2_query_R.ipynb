{
 "cells": [
  {
   "cell_type": "markdown",
   "metadata": {},
   "source": [
    "# <span style=\"color:purple\">Basic **WRDS** Queries with R</span>\n"
   ]
  },
  {
   "cell_type": "code",
   "execution_count": null,
   "metadata": {
    "vscode": {
     "languageId": "r"
    }
   },
   "outputs": [],
   "source": [
    "library(RPostgres)"
   ]
  },
  {
   "cell_type": "markdown",
   "metadata": {},
   "source": [
    "This notebook goes over basic use of R to query libraries and tables at WRDS. The WRDS site has a page dedicated to the topic of [\"Querying WRDS Data using R\"](https://wrds-www.wharton.upenn.edu/pages/support/programming-wrds/programming-r/advanced-topics-in-r/querying-wrds-data-r/)."
   ]
  },
  {
   "cell_type": "markdown",
   "metadata": {},
   "source": [
    "#### Set up connection with WRDS\n",
    "You will need to set up a .pgpass file as discussed in [the setup page](./1_setup.ipynb)."
   ]
  },
  {
   "cell_type": "code",
   "execution_count": null,
   "metadata": {
    "vscode": {
     "languageId": "r"
    }
   },
   "outputs": [],
   "source": [
    "# Create a connection called \"wrds\", need to update username\n",
    "wrds <- dbConnect(Postgres(),\n",
    "                  host='wrds-pgdata.wharton.upenn.edu',\n",
    "                  port=9737,\n",
    "                  dbname='wrds',\n",
    "                  sslmode='require',\n",
    "                  user='username')\n",
    "# AT THIS POINT, EXPECT A DUO PUSH\n"
   ]
  },
  {
   "cell_type": "markdown",
   "metadata": {},
   "source": [
    "#### Query data "
   ]
  },
  {
   "cell_type": "code",
   "execution_count": null,
   "metadata": {
    "vscode": {
     "languageId": "r"
    }
   },
   "outputs": [],
   "source": [
    "# Use established wrds connection to submit the SQL query and save the result to res\n",
    "res <- dbSendQuery(wrds, \"SELECT * FROM crsp.dsf\")\n",
    "\n",
    "# Fetch the res results and stores it as data\n",
    "# n = -1 means fetch all rows, no limit\n",
    "# n = integer means return the first n rows\n",
    "data <- dbFetch(res, n=10)\n",
    "\n",
    "# Close the connection, get ready for another query\n",
    "dbClearResult(res)\n",
    "data"
   ]
  },
  {
   "cell_type": "markdown",
   "metadata": {},
   "source": [
    "#### Query WRDS library "
   ]
  },
  {
   "cell_type": "code",
   "execution_count": null,
   "metadata": {
    "vscode": {
     "languageId": "r"
    }
   },
   "outputs": [],
   "source": [
    "# This will list all libraries available at WRDS\n",
    "res <- dbSendQuery(wrds, \"select distinct table_schema\n",
    "                   from information_schema.tables\n",
    "                   where table_type ='VIEW'\n",
    "                   or table_type ='FOREIGN TABLE'\n",
    "                   order by table_schema\")\n",
    "data <- dbFetch(res, n=-1)\n",
    "dbClearResult(res)\n",
    "data"
   ]
  },
  {
   "cell_type": "code",
   "execution_count": null,
   "metadata": {
    "vscode": {
     "languageId": "r"
    }
   },
   "outputs": [],
   "source": [
    "# Check tables in a given library\n",
    "res <- dbSendQuery(wrds, \"select distinct table_name\n",
    "                   from information_schema.columns\n",
    "                   where table_schema='crsp'\n",
    "                   order by table_name\")\n",
    "data <- dbFetch(res, n=-1)\n",
    "dbClearResult(res)\n",
    "data"
   ]
  },
  {
   "cell_type": "code",
   "execution_count": null,
   "metadata": {
    "vscode": {
     "languageId": "r"
    }
   },
   "outputs": [],
   "source": [
    "# Check variables in a given table\n",
    "res <- dbSendQuery(wrds, \"select column_name\n",
    "                   from information_schema.columns\n",
    "                   where table_schema='crsp'\n",
    "                   and table_name='dsf'\n",
    "                   order by column_name\")\n",
    "data <- dbFetch(res, n=-1)\n",
    "dbClearResult(res)\n",
    "data"
   ]
  }
 ],
 "metadata": {
  "kernelspec": {
   "display_name": "R",
   "language": "R",
   "name": "ir"
  },
  "language_info": {
   "codemirror_mode": "r",
   "file_extension": ".r",
   "mimetype": "text/x-r-source",
   "name": "R",
   "pygments_lexer": "r",
   "version": "4.1.3"
  }
 },
 "nbformat": 4,
 "nbformat_minor": 2
}
