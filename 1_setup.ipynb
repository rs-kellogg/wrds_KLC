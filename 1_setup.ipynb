{
 "cells": [
  {
   "cell_type": "markdown",
   "metadata": {},
   "source": [
    "# <span style=\"color:purple\">Setup</span>"
   ]
  },
  {
   "cell_type": "markdown",
   "metadata": {},
   "source": [
    "### Authenticate to WRDS API\n",
    "You can establish a connection with the **WRDS** server by using a .pgpass file saved at your $HOME directory."
   ]
  },
  {
   "cell_type": "code",
   "execution_count": 1,
   "metadata": {},
   "outputs": [
    {
     "name": "stdout",
     "output_type": "stream",
     "text": [
      "wrds-pgdata.wharton.upenn.edu:9737:wrds:username:your_password\n"
     ]
    }
   ],
   "source": [
    "# To view the contents of this file, you should actually type:\n",
    "#! cat ~/.pgpass\n",
    "\n",
    "# I don't want to publicly share my WRDS password, \n",
    "# so I made an example file\n",
    "! cat ~/.pgpass_example"
   ]
  },
  {
   "cell_type": "markdown",
   "metadata": {},
   "source": [
    "Once you have a hidden pgpass file saved, you will not have to enter your crednetials the next time you login to the **WRDS** API in python or R.   \n",
    "You may be prompted to authenticate with a DUO push.\n"
   ]
  },
  {
   "cell_type": "markdown",
   "metadata": {},
   "source": [
    "### Use Conda environment\n",
    "We have created a Conda environment for WRDS at /kellogg/software/envs/wrds_env  \n",
    "It can be activated as\n",
    "```\n",
    "module load mamba\n",
    "source activate /kellogg/software/envs/wrds_env\n",
    "# Leave environment\n",
    "conda deactivate\n",
    "```\n",
    "***OR***  \n",
    "  \n",
    "You can create a Conda environment through the following steps.  \n",
    "  \n",
    "**Step 1:** create the following file on KLC called wrds_env.yml\n",
    "```\n",
    "name: wrds_env\n",
    "channels:\n",
    "  - conda-forge\n",
    "  - defaults\n",
    "dependencies:\n",
    "  - r-base = 4.1.1\n",
    "  - r-rpostgres\n",
    "  - python=3.11.0\n",
    "  - pandas=2.1.4\n",
    "```\n",
    "**Step 2:** create the environment by executing the following commands\n",
    "```\n",
    "module load mamba\n",
    "mamba env create -f wrds_env.yml\n",
    "```\n",
    "**Step 3:** activate the environment and install python library for wrds\n",
    "```\n",
    "source activate wrds_env\n",
    "# Only need to install once\n",
    "pip install wrds  \n",
    "# Optional\n",
    "pip install notebook\n",
    "# Add kernel for use in jupyter notebook\n",
    "python -m ipykernel install --user --name wrds_env --display-name \"Python (wrds_env)\"\n",
    "```\n",
    "**Step 4:** information on how to activate the environment in the future\n",
    "```\n",
    "# Load mamba package\n",
    "module load mamba \n",
    "# Activate the environment\n",
    "source activate wrds_env\n",
    "# Leave the environment\n",
    "conda deactivate\n",
    "# To output the yaml file so you can share your environment with others:\n",
    "conda env export > wrds_env.yml\n",
    "```\n"
   ]
  }
 ],
 "metadata": {
  "kernelspec": {
   "display_name": "Python 3 (ipykernel)",
   "language": "python",
   "name": "python3"
  },
  "language_info": {
   "codemirror_mode": {
    "name": "ipython",
    "version": 3
   },
   "file_extension": ".py",
   "mimetype": "text/x-python",
   "name": "python",
   "nbconvert_exporter": "python",
   "pygments_lexer": "ipython3",
   "version": "3.11.0"
  }
 },
 "nbformat": 4,
 "nbformat_minor": 2
}
